{
 "cells": [
  {
   "cell_type": "code",
   "execution_count": 43,
   "id": "f70da631",
   "metadata": {},
   "outputs": [
    {
     "name": "stdout",
     "output_type": "stream",
     "text": [
      "<class 'pandas.core.frame.DataFrame'>\n",
      "RangeIndex: 4024 entries, 0 to 4023\n",
      "Data columns (total 18 columns):\n",
      " #   Column                  Non-Null Count  Dtype  \n",
      "---  ------                  --------------  -----  \n",
      " 0   Patient_ID              4024 non-null   object \n",
      " 1   Month_of_Birth          4024 non-null   int64  \n",
      " 2   Age                     4015 non-null   float64\n",
      " 3   Sex                     4020 non-null   object \n",
      " 4   Occupation              43 non-null     object \n",
      " 5   T_Stage                 4024 non-null   object \n",
      " 6   N_Stage                 4024 non-null   object \n",
      " 7   6th_Stage               4024 non-null   object \n",
      " 8   Differentiated          4024 non-null   object \n",
      " 9   Grade                   4024 non-null   int64  \n",
      " 10  A_Stage                 4024 non-null   object \n",
      " 11  Tumor_Size              4021 non-null   float64\n",
      " 12  Estrogen_Status         4024 non-null   object \n",
      " 13  Progesterone_Status     4024 non-null   object \n",
      " 14  Regional_Node_Examined  4023 non-null   float64\n",
      " 15  Reginol_Node_Positive   4024 non-null   int64  \n",
      " 16  Survival_Months         4024 non-null   int64  \n",
      " 17  Mortality_Status        4024 non-null   object \n",
      "dtypes: float64(3), int64(4), object(11)\n",
      "memory usage: 566.0+ KB\n",
      "Dataset Shape: (4024, 18)\n"
     ]
    }
   ],
   "source": [
    "import pandas as pd\n",
    "import numpy as np\n",
    "\n",
    "# load the dataset\n",
    "data_set = pd.read_csv('./dataset-breast-cancer.csv')\n",
    "\n",
    "# preview the dataset\n",
    "data_set.head()\n",
    "\n",
    "# dataset information\n",
    "data_set.info()\n",
    "\n",
    "# summary of data\n",
    "data_set.describe(include='all')\n",
    "\n",
    "# dimentions of the dataset\n",
    "print(\"Dataset Shape:\", data_set.shape)\n",
    "\n",
    "\n",
    "\n"
   ]
  },
  {
   "cell_type": "code",
   "execution_count": 30,
   "id": "4ab7913b",
   "metadata": {},
   "outputs": [
    {
     "name": "stdout",
     "output_type": "stream",
     "text": [
      "Mortality_Status\n",
      "Alive    3399\n",
      "Dead      598\n",
      "DEAD       10\n",
      "dead        8\n",
      "ALIVE       5\n",
      "alive       3\n",
      "ALive       1\n",
      "Name: count, dtype: int64\n",
      "count    4024.000000\n",
      "mean       71.472167\n",
      "std        25.361855\n",
      "min         1.000000\n",
      "25%        56.000000\n",
      "50%        73.000000\n",
      "75%        90.000000\n",
      "max       760.000000\n",
      "Name: Survival_Months, dtype: float64\n",
      "['Patient_ID', 'Month_of_Birth', 'Age', 'Sex', 'Occupation', 'T_Stage', 'N_Stage', '6th_Stage', 'Differentiated', 'Grade', 'A_Stage', 'Tumor_Size', 'Estrogen_Status', 'Progesterone_Status', 'Regional_Node_Examined', 'Reginol_Node_Positive', 'Survival_Months', 'Mortality_Status']\n",
      "['Patient_ID', 'Month_of_Birth', 'Age', 'Sex', 'Occupation', 'T_Stage', 'N_Stage', '6th_Stage', 'Differentiated', 'Grade', 'A_Stage', 'Tumor_Size', 'Estrogen_Status', 'Progesterone_Status', 'Regional_Node_Examined', 'Reginol_Node_Positive', 'Survival_Months', 'Mortality_Status']\n"
     ]
    }
   ],
   "source": [
    "# view unique values in target variables\n",
    "print(data_set['Mortality_Status'].value_counts())\n",
    "print(data_set['Survival_Months'].describe())\n",
    "\n",
    "\n",
    "# Reload the original data\n",
    "\n",
    "print(data_set.columns.tolist())\n",
    "\n",
    "# Define the categorical columns (make sure they actually exist in the data)\n",
    "categorical_cols = ['Sex', 'T Stage', 'N Stage', 'Estrogen Status', 'Progesterone Status']\n",
    "\n",
    "# Check column names just in case\n",
    "print(data_set.columns.tolist())\n",
    "\n",
    "# Then apply one-hot encoding\n"
   ]
  },
  {
   "cell_type": "code",
   "execution_count": 34,
   "id": "dc3c207d",
   "metadata": {},
   "outputs": [],
   "source": [
    "classification_data_set = data_set.drop(columns=['Patient_ID', 'Survival_Months'])  # Drop irrelevant for classification\n",
    "classification_data_set = classification_data_set.dropna(subset=['Mortality_Status'])  # Ensure target is available\n"
   ]
  },
  {
   "cell_type": "code",
   "execution_count": 47,
   "id": "d9f5606d",
   "metadata": {},
   "outputs": [],
   "source": [
    "regression_data_set = data_set[data_set['Mortality_Status'] == 'Dead']  # Filter only dead patients\n",
    "regression_data_set = regression_data_set.drop(columns=['Patient_ID'])  # Drop irrelevant ID\n"
   ]
  },
  {
   "cell_type": "code",
   "execution_count": 48,
   "id": "a4302bf2",
   "metadata": {},
   "outputs": [],
   "source": [
    "classification_data_set.to_csv('classification_data_cleaned.csv', index=False)\n",
    "regression_data_set.to_csv('regression_data_cleaned.csv', index=False)\n"
   ]
  },
  {
   "cell_type": "code",
   "execution_count": 49,
   "id": "ad3d3e12",
   "metadata": {},
   "outputs": [
    {
     "name": "stdout",
     "output_type": "stream",
     "text": [
      "Classification Dataset Shape: (4024, 16)\n",
      "Regression Dataset Shape: (598, 17)\n"
     ]
    }
   ],
   "source": [
    "print(\"Classification Dataset Shape:\", classification_data_set.shape)\n",
    "print(\"Regression Dataset Shape:\", regression_data_set.shape)\n"
   ]
  }
 ],
 "metadata": {
  "kernelspec": {
   "display_name": "base",
   "language": "python",
   "name": "python3"
  },
  "language_info": {
   "codemirror_mode": {
    "name": "ipython",
    "version": 3
   },
   "file_extension": ".py",
   "mimetype": "text/x-python",
   "name": "python",
   "nbconvert_exporter": "python",
   "pygments_lexer": "ipython3",
   "version": "3.12.7"
  }
 },
 "nbformat": 4,
 "nbformat_minor": 5
}
