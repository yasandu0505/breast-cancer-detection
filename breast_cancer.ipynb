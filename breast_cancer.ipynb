{
 "cells": [
  {
   "cell_type": "code",
   "execution_count": 1,
   "id": "f70da631",
   "metadata": {},
   "outputs": [
    {
     "name": "stdout",
     "output_type": "stream",
     "text": [
      "<class 'pandas.core.frame.DataFrame'>\n",
      "RangeIndex: 4024 entries, 0 to 4023\n",
      "Data columns (total 18 columns):\n",
      " #   Column                  Non-Null Count  Dtype  \n",
      "---  ------                  --------------  -----  \n",
      " 0   Patient_ID              4024 non-null   object \n",
      " 1   Month_of_Birth          4024 non-null   int64  \n",
      " 2   Age                     4015 non-null   float64\n",
      " 3   Sex                     4020 non-null   object \n",
      " 4   Occupation              43 non-null     object \n",
      " 5   T_Stage                 4024 non-null   object \n",
      " 6   N_Stage                 4024 non-null   object \n",
      " 7   6th_Stage               4024 non-null   object \n",
      " 8   Differentiated          4024 non-null   object \n",
      " 9   Grade                   4024 non-null   int64  \n",
      " 10  A_Stage                 4024 non-null   object \n",
      " 11  Tumor_Size              4021 non-null   float64\n",
      " 12  Estrogen_Status         4024 non-null   object \n",
      " 13  Progesterone_Status     4024 non-null   object \n",
      " 14  Regional_Node_Examined  4023 non-null   float64\n",
      " 15  Reginol_Node_Positive   4024 non-null   int64  \n",
      " 16  Survival_Months         4024 non-null   int64  \n",
      " 17  Mortality_Status        4024 non-null   object \n",
      "dtypes: float64(3), int64(4), object(11)\n",
      "memory usage: 566.0+ KB\n",
      "Dataset Shape: (4024, 18)\n"
     ]
    }
   ],
   "source": [
    "import pandas as pd\n",
    "import numpy as np\n",
    "\n",
    "# load the dataset\n",
    "data_set = pd.read_csv('./dataset-breast-cancer.csv')\n",
    "\n",
    "# preview the dataset\n",
    "data_set.head()\n",
    "\n",
    "# dataset information\n",
    "data_set.info()\n",
    "\n",
    "# summary of data\n",
    "data_set.describe(include='all')\n",
    "\n",
    "# dimentions of the dataset\n",
    "print(\"Dataset Shape:\", data_set.shape)\n",
    "\n",
    "\n",
    "\n"
   ]
  },
  {
   "cell_type": "code",
   "execution_count": 2,
   "id": "4ab7913b",
   "metadata": {},
   "outputs": [
    {
     "name": "stdout",
     "output_type": "stream",
     "text": [
      "Mortality_Status\n",
      "Alive    3399\n",
      "Dead      598\n",
      "DEAD       10\n",
      "dead        8\n",
      "ALIVE       5\n",
      "alive       3\n",
      "ALive       1\n",
      "Name: count, dtype: int64\n",
      "count    4024.000000\n",
      "mean       71.472167\n",
      "std        25.361855\n",
      "min         1.000000\n",
      "25%        56.000000\n",
      "50%        73.000000\n",
      "75%        90.000000\n",
      "max       760.000000\n",
      "Name: Survival_Months, dtype: float64\n",
      "['Patient_ID', 'Month_of_Birth', 'Age', 'Sex', 'Occupation', 'T_Stage', 'N_Stage', '6th_Stage', 'Differentiated', 'Grade', 'A_Stage', 'Tumor_Size', 'Estrogen_Status', 'Progesterone_Status', 'Regional_Node_Examined', 'Reginol_Node_Positive', 'Survival_Months', 'Mortality_Status']\n"
     ]
    }
   ],
   "source": [
    "# view unique values in target variables\n",
    "print(data_set['Mortality_Status'].value_counts())\n",
    "\n",
    "print(data_set['Survival_Months'].describe())\n",
    "\n",
    "print(data_set.columns.tolist())\n",
    "\n",
    "\n",
    "\n",
    "\n"
   ]
  },
  {
   "cell_type": "code",
   "execution_count": 3,
   "id": "e42f4dad",
   "metadata": {},
   "outputs": [
    {
     "data": {
      "text/plain": [
       "0"
      ]
     },
     "execution_count": 3,
     "metadata": {},
     "output_type": "execute_result"
    }
   ],
   "source": [
    "# Check for missing values\n",
    "data_set.isnull().sum()\n",
    "\n",
    "# Check for duplicates\n",
    "data_set.duplicated().sum()\n"
   ]
  },
  {
   "cell_type": "code",
   "execution_count": 4,
   "id": "20097974",
   "metadata": {},
   "outputs": [
    {
     "data": {
      "text/plain": [
       "Patient_ID                 object\n",
       "Month_of_Birth              int64\n",
       "Age                       float64\n",
       "Sex                        object\n",
       "Occupation                 object\n",
       "T_Stage                    object\n",
       "N_Stage                    object\n",
       "6th_Stage                  object\n",
       "Differentiated             object\n",
       "Grade                       int64\n",
       "A_Stage                    object\n",
       "Tumor_Size                float64\n",
       "Estrogen_Status            object\n",
       "Progesterone_Status        object\n",
       "Regional_Node_Examined    float64\n",
       "Reginol_Node_Positive       int64\n",
       "Survival_Months             int64\n",
       "Mortality_Status           object\n",
       "dtype: object"
      ]
     },
     "execution_count": 4,
     "metadata": {},
     "output_type": "execute_result"
    }
   ],
   "source": [
    "# identify categorial columns\n",
    "data_set.dtypes\n"
   ]
  },
  {
   "cell_type": "code",
   "execution_count": 5,
   "id": "d4e70574",
   "metadata": {},
   "outputs": [],
   "source": [
    "# clean and standardize casing\n",
    "data_set['Mortality_Status'] = data_set['Mortality_Status'].str.strip().str.capitalize()\n",
    "data_set['Sex'] = data_set['Sex'].str.strip().str.capitalize()\n",
    "\n",
    "\n",
    "# encode: Alive = 0, Dead = 1\n",
    "data_set['Mortality_Status'] = data_set['Mortality_Status'].map({'Alive': 0, 'Dead': 1})\n",
    "\n"
   ]
  },
  {
   "cell_type": "code",
   "execution_count": 6,
   "id": "ae331dcc",
   "metadata": {},
   "outputs": [],
   "source": [
    "categorical_columns = ['Sex', 'T_Stage', 'N_Stage', 'Estrogen_Status', 'Progesterone_Status']\n",
    "\n",
    "# One-hot encode (drop_first=True avoids multicollinearity)\n",
    "data_set = pd.get_dummies(data_set, columns=categorical_columns, drop_first=True)\n"
   ]
  },
  {
   "cell_type": "code",
   "execution_count": 7,
   "id": "433bc170",
   "metadata": {},
   "outputs": [
    {
     "data": {
      "text/plain": [
       "Patient_ID                       object\n",
       "Age                             float64\n",
       "Occupation                       object\n",
       "6th_Stage                        object\n",
       "Differentiated                   object\n",
       "Grade                             int64\n",
       "A_Stage                          object\n",
       "Tumor_Size                      float64\n",
       "Regional_Node_Examined          float64\n",
       "Reginol_Node_Positive             int64\n",
       "Survival_Months                   int64\n",
       "Mortality_Status                  int64\n",
       "Sex_Female                         bool\n",
       "T_Stage_T2                         bool\n",
       "T_Stage_T3                         bool\n",
       "T_Stage_T4                         bool\n",
       "N_Stage_N2                         bool\n",
       "N_Stage_N3                         bool\n",
       "Estrogen_Status_Positive           bool\n",
       "Progesterone_Status_Positive       bool\n",
       "dtype: object"
      ]
     },
     "execution_count": 7,
     "metadata": {},
     "output_type": "execute_result"
    }
   ],
   "source": [
    "data_set.head()\n",
    "# dropping the month of birth column\n",
    "data_set = data_set.drop(columns=['Month_of_Birth'])\n",
    "\n",
    "data_set.dtypes\n"
   ]
  },
  {
   "cell_type": "code",
   "execution_count": 8,
   "id": "0b52663a",
   "metadata": {},
   "outputs": [],
   "source": [
    "data_set = pd.get_dummies(data_set, columns=['Occupation'], drop_first=True)\n"
   ]
  },
  {
   "cell_type": "code",
   "execution_count": 9,
   "id": "03f04b9b",
   "metadata": {},
   "outputs": [
    {
     "data": {
      "text/plain": [
       "Patient_ID                       object\n",
       "Age                             float64\n",
       "6th_Stage                        object\n",
       "Differentiated                   object\n",
       "Grade                             int64\n",
       "A_Stage                          object\n",
       "Tumor_Size                      float64\n",
       "Regional_Node_Examined          float64\n",
       "Reginol_Node_Positive             int64\n",
       "Survival_Months                   int64\n",
       "Mortality_Status                  int64\n",
       "Sex_Female                         bool\n",
       "T_Stage_T2                         bool\n",
       "T_Stage_T3                         bool\n",
       "T_Stage_T4                         bool\n",
       "N_Stage_N2                         bool\n",
       "N_Stage_N3                         bool\n",
       "Estrogen_Status_Positive           bool\n",
       "Progesterone_Status_Positive       bool\n",
       "Occupation_Agriculture             bool\n",
       "Occupation_Arts                    bool\n",
       "Occupation_Business                bool\n",
       "Occupation_Cleaning                bool\n",
       "Occupation_Construction            bool\n",
       "Occupation_Consultancy             bool\n",
       "Occupation_Design                  bool\n",
       "Occupation_Development             bool\n",
       "Occupation_Driving                 bool\n",
       "Occupation_Engineering             bool\n",
       "Occupation_Entertainment           bool\n",
       "Occupation_Finance                 bool\n",
       "Occupation_Healthcare              bool\n",
       "Occupation_Hospitality             bool\n",
       "Occupation_House Person            bool\n",
       "Occupation_Human Resources         bool\n",
       "Occupation_Legal                   bool\n",
       "Occupation_Leisure                 bool\n",
       "Occupation_Maintenance             bool\n",
       "Occupation_Management              bool\n",
       "Occupation_Manufacturing           bool\n",
       "Occupation_Marketing               bool\n",
       "Occupation_Medical                 bool\n",
       "Occupation_Military                bool\n",
       "Occupation_Multimedia              bool\n",
       "Occupation_Photography             bool\n",
       "Occupation_Planning                bool\n",
       "Occupation_Politics                bool\n",
       "Occupation_Public                  bool\n",
       "Occupation_Reporting               bool\n",
       "Occupation_Research                bool\n",
       "Occupation_Sales                   bool\n",
       "Occupation_Scoial work             bool\n",
       "Occupation_Sports                  bool\n",
       "Occupation_Teaching                bool\n",
       "Occupation_Technology              bool\n",
       "Occupation_Trading                 bool\n",
       "Occupation_Training                bool\n",
       "Occupation_Travel                  bool\n",
       "dtype: object"
      ]
     },
     "execution_count": 9,
     "metadata": {},
     "output_type": "execute_result"
    }
   ],
   "source": [
    "data_set.dtypes"
   ]
  },
  {
   "cell_type": "code",
   "execution_count": 10,
   "id": "dc3c207d",
   "metadata": {},
   "outputs": [
    {
     "name": "stdout",
     "output_type": "stream",
     "text": [
      "Classification Dataset Shape: (4024, 56)\n",
      "Regression Dataset Shape (Dead): (616, 57)\n"
     ]
    }
   ],
   "source": [
    "# Drop irrelevant columns for classification and handle missing target\n",
    "classification_data_set = data_set.drop(columns=['Patient_ID', 'Survival_Months']).dropna(subset=['Mortality_Status'])\n",
    "\n",
    "# Filter the data for regression tasks (dead and alive patients)\n",
    "regression_data_set = data_set[data_set['Mortality_Status'] == 1].drop(columns=['Patient_ID'])\n",
    "\n",
    "\n",
    "# Save cleaned datasets to CSV\n",
    "classification_data_set.to_csv('classification_data_cleaned.csv', index=False)\n",
    "regression_data_set.to_csv('regression_data_cleaned.csv', index=False)\n",
    "\n",
    "# Print dataset shapes for confirmation\n",
    "print(\"Classification Dataset Shape:\", classification_data_set.shape)\n",
    "print(\"Regression Dataset Shape (Dead):\", regression_data_set.shape)\n"
   ]
  }
 ],
 "metadata": {
  "kernelspec": {
   "display_name": "base",
   "language": "python",
   "name": "python3"
  },
  "language_info": {
   "codemirror_mode": {
    "name": "ipython",
    "version": 3
   },
   "file_extension": ".py",
   "mimetype": "text/x-python",
   "name": "python",
   "nbconvert_exporter": "python",
   "pygments_lexer": "ipython3",
   "version": "3.12.7"
  }
 },
 "nbformat": 4,
 "nbformat_minor": 5
}
